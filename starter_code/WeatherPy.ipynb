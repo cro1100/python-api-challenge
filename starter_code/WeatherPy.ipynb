{
 "cells": [
  {
   "cell_type": "markdown",
   "metadata": {},
   "source": [
    "# WeatherPy\n",
    "----\n",
    "\n",
    "#### Note\n",
    "* Instructions have been included for each segment. You do not have to follow them exactly, but they are included to help you think through the steps."
   ]
  },
  {
   "cell_type": "code",
   "execution_count": 38,
   "metadata": {
    "scrolled": true
   },
   "outputs": [],
   "source": [
    "# Dependencies\n",
    "import pandas as pd\n",
    "import numpy as np\n",
    "import requests\n",
    "import json\n",
    "import matplotlib.pyplot as plt\n",
    "from scipy.stats import linregress\n",
    "\n",
    "#this function will allow me to get a list of cities which are nearest to a set of lat/longs i create\n",
    "from citipy import citipy\n",
    "\n",
    "# Google and weather API Keys\n",
    "from api_keys import gkey, weather_api_key"
   ]
  },
  {
   "cell_type": "markdown",
   "metadata": {},
   "source": [
    "## Generate Cities List"
   ]
  },
  {
   "cell_type": "code",
   "execution_count": 39,
   "metadata": {},
   "outputs": [],
   "source": [
    "# first create a \"random\" set of lat/longs\n",
    "\n",
    "lats = np.random.uniform(low = -90, high = 90, size = 75)\n",
    "lngs = np.random.uniform(low = -180, high = 180, size = 75)\n",
    "\n",
    "city = []\n",
    "country = []\n",
    "\n",
    "# now those lat/longs have to be in pairs to use the citipy function\n",
    "lat_lng = zip(lats, lngs)\n",
    "\n",
    "# run a loop calling citipy to get the nearest city to the lat/long created\n",
    "for lat in lat_lng:\n",
    "    city.append(citipy.nearest_city(lat[0], lat[1]).city_name)\n",
    "    country.append(citipy.nearest_city(lat[0], lat[1]).country_code)\n",
    "\n",
    "# create a list of all the data\n",
    "cities_to_truncate = [city, country]   #, city_lat, city_lng\n",
    "\n",
    "# make sure the cities are unique then cut the list to 500  \n",
    "np.unique(cities_to_truncate)\n",
    "\n",
    "cities = cities_to_truncate[0][:50]\n",
    "countries = cities_to_truncate[1][:50] \n",
    "\n",
    "# i have a list of \"random\" cities to be able to use"
   ]
  },
  {
   "cell_type": "markdown",
   "metadata": {},
   "source": [
    "### Perform API Calls\n",
    "* Perform a weather check on each city using a series of successive API calls.\n",
    "* Include a print log of each city as it'sbeing processed (with the city number and city name).\n"
   ]
  },
  {
   "cell_type": "code",
   "execution_count": 42,
   "metadata": {},
   "outputs": [
    {
     "name": "stdout",
     "output_type": "stream",
     "text": [
      "City: jamestown  City ID: 5122534\n",
      "City: campo alegre  City ID: 3403611\n",
      "City: saint anthony  City ID: 5044290\n",
      "City not found\n",
      "City: qaanaaq  City ID: 3831208\n",
      "City: hilo  City ID: 5855927\n",
      "City not found\n",
      "City: ushuaia  City ID: 3833367\n",
      "City: mataura  City ID: 6201424\n",
      "City not found\n",
      "City: wagar  City ID: 364027\n",
      "City: magadan  City ID: 2123628\n",
      "City: anadyr  City ID: 2127202\n",
      "City: arraial do cabo  City ID: 3471451\n",
      "City: albany  City ID: 5106841\n",
      "City not found\n",
      "City: qaanaaq  City ID: 3831208\n",
      "City not found\n",
      "City: mayya  City ID: 2020121\n",
      "City: victoria  City ID: 1819729\n",
      "City: ondjiva  City ID: 3346821\n",
      "City: yerbogachen  City ID: 2012956\n",
      "City: kapaa  City ID: 5848280\n",
      "City: cape town  City ID: 3369157\n",
      "City: marzuq  City ID: 72181\n",
      "City: bambous virieux  City ID: 1106677\n",
      "City: new norfolk  City ID: 2155415\n",
      "City: jaciara  City ID: 3460355\n",
      "City not found\n",
      "City not found\n",
      "City: kudahuvadhoo  City ID: 1337607\n",
      "City: rikitea  City ID: 4030556\n",
      "City: krasnovishersk  City ID: 542184\n",
      "City: bolitoc  City ID: 1724301\n",
      "City: hobart  City ID: 2163355\n",
      "City: banaoang  City ID: 1695357\n",
      "City: vaini  City ID: 4032243\n",
      "City: tuktoyaktuk  City ID: 6170031\n",
      "City: ushuaia  City ID: 3833367\n",
      "City: atuona  City ID: 4020109\n",
      "City not found\n",
      "City: luanda  City ID: 2240449\n",
      "City: cape town  City ID: 3369157\n",
      "City: ambilobe  City ID: 1082243\n",
      "City: biltine  City ID: 244878\n",
      "City not found\n",
      "City: dikson  City ID: 1507390\n",
      "City: kidal  City ID: 2455290\n",
      "City not found\n",
      "City: atuona  City ID: 4020109\n"
     ]
    }
   ],
   "source": [
    "# create the base url and the lists which i'll be using to store data\n",
    "\n",
    "base_url = 'http://api.openweathermap.org/data/2.5/weather?units=imperial'\n",
    "city_lats = []\n",
    "city_lngs = []\n",
    "temps = []\n",
    "humidities = []\n",
    "cloudiness = []\n",
    "wind_speeds = []\n",
    "dates = []\n",
    "count = 0\n",
    "\n",
    "# loop through the data, call it through the api, then create lists of the needed data\n",
    "for city in cities:\n",
    "    try:\n",
    "        url_string = (base_url + '&appid=' + weather_api_key + '&q=' + city)\n",
    "        city_lat_lng = requests.get(url_string)\n",
    "        weather_data = city_lat_lng.json()\n",
    "        city_lats.append(weather_data['coord']['lat'])\n",
    "        city_lngs.append(weather_data['coord']['lon'])\n",
    "        temps.append(weather_data['main']['temp'])\n",
    "        humidities.append(weather_data['main']['humidity'])\n",
    "        cloudiness.append(weather_data['clouds']['all'])\n",
    "        wind_speeds.append(weather_data['wind']['speed'])\n",
    "        dates.append(weather_data['dt'])\n",
    "        city_num = (weather_data['id'])\n",
    "        print(f\"City: {city}  City ID: {city_num}\")\n",
    "\n",
    "    except:\n",
    "        print(\"City not found\")\n",
    "        city_lats.append(0)\n",
    "        city_lngs.append(0)\n",
    "        temps.append(0)\n",
    "        humidities.append(101)  #make the humidity over 100 to remove the city later\n",
    "        cloudiness.append(0)\n",
    "        wind_speeds.append(0)\n",
    "        dates.append(0)"
   ]
  },
  {
   "cell_type": "code",
   "execution_count": 43,
   "metadata": {
    "scrolled": true
   },
   "outputs": [],
   "source": [
    "# print(json.dumps(weather_data, indent=2, sort_keys=True))"
   ]
  },
  {
   "cell_type": "markdown",
   "metadata": {},
   "source": [
    "### Convert Raw Data to DataFrame\n",
    "* Export the city data into a .csv.\n",
    "* Display the DataFrame"
   ]
  },
  {
   "cell_type": "code",
   "execution_count": 44,
   "metadata": {},
   "outputs": [
    {
     "data": {
      "text/html": [
       "<div>\n",
       "<style scoped>\n",
       "    .dataframe tbody tr th:only-of-type {\n",
       "        vertical-align: middle;\n",
       "    }\n",
       "\n",
       "    .dataframe tbody tr th {\n",
       "        vertical-align: top;\n",
       "    }\n",
       "\n",
       "    .dataframe thead th {\n",
       "        text-align: right;\n",
       "    }\n",
       "</style>\n",
       "<table border=\"1\" class=\"dataframe\">\n",
       "  <thead>\n",
       "    <tr style=\"text-align: right;\">\n",
       "      <th></th>\n",
       "      <th>City</th>\n",
       "      <th>Lat</th>\n",
       "      <th>Lng</th>\n",
       "      <th>High Temp</th>\n",
       "      <th>Humidity</th>\n",
       "      <th>Cloudiness</th>\n",
       "      <th>Wind Speed</th>\n",
       "      <th>Country</th>\n",
       "      <th>Date</th>\n",
       "    </tr>\n",
       "  </thead>\n",
       "  <tbody>\n",
       "    <tr>\n",
       "      <th>0</th>\n",
       "      <td>jamestown</td>\n",
       "      <td>42.10</td>\n",
       "      <td>-79.24</td>\n",
       "      <td>66.69</td>\n",
       "      <td>77</td>\n",
       "      <td>90</td>\n",
       "      <td>11.41</td>\n",
       "      <td>sh</td>\n",
       "      <td>1602371576</td>\n",
       "    </tr>\n",
       "    <tr>\n",
       "      <th>1</th>\n",
       "      <td>campo alegre</td>\n",
       "      <td>-9.78</td>\n",
       "      <td>-36.35</td>\n",
       "      <td>77.00</td>\n",
       "      <td>83</td>\n",
       "      <td>20</td>\n",
       "      <td>13.87</td>\n",
       "      <td>br</td>\n",
       "      <td>1602371718</td>\n",
       "    </tr>\n",
       "    <tr>\n",
       "      <th>2</th>\n",
       "      <td>saint anthony</td>\n",
       "      <td>45.02</td>\n",
       "      <td>-93.22</td>\n",
       "      <td>62.35</td>\n",
       "      <td>34</td>\n",
       "      <td>1</td>\n",
       "      <td>3.36</td>\n",
       "      <td>ca</td>\n",
       "      <td>1602371718</td>\n",
       "    </tr>\n",
       "    <tr>\n",
       "      <th>3</th>\n",
       "      <td>taolanaro</td>\n",
       "      <td>0.00</td>\n",
       "      <td>0.00</td>\n",
       "      <td>0.00</td>\n",
       "      <td>101</td>\n",
       "      <td>0</td>\n",
       "      <td>0.00</td>\n",
       "      <td>mg</td>\n",
       "      <td>0</td>\n",
       "    </tr>\n",
       "    <tr>\n",
       "      <th>4</th>\n",
       "      <td>qaanaaq</td>\n",
       "      <td>77.48</td>\n",
       "      <td>-69.36</td>\n",
       "      <td>31.82</td>\n",
       "      <td>80</td>\n",
       "      <td>77</td>\n",
       "      <td>8.72</td>\n",
       "      <td>gl</td>\n",
       "      <td>1602371718</td>\n",
       "    </tr>\n",
       "  </tbody>\n",
       "</table>\n",
       "</div>"
      ],
      "text/plain": [
       "            City    Lat    Lng  High Temp  Humidity  Cloudiness  Wind Speed  \\\n",
       "0      jamestown  42.10 -79.24      66.69        77          90       11.41   \n",
       "1   campo alegre  -9.78 -36.35      77.00        83          20       13.87   \n",
       "2  saint anthony  45.02 -93.22      62.35        34           1        3.36   \n",
       "3      taolanaro   0.00   0.00       0.00       101           0        0.00   \n",
       "4        qaanaaq  77.48 -69.36      31.82        80          77        8.72   \n",
       "\n",
       "  Country        Date  \n",
       "0      sh  1602371576  \n",
       "1      br  1602371718  \n",
       "2      ca  1602371718  \n",
       "3      mg           0  \n",
       "4      gl  1602371718  "
      ]
     },
     "execution_count": 44,
     "metadata": {},
     "output_type": "execute_result"
    }
   ],
   "source": [
    "city_weather = {\"City\": cities,\n",
    "                \"Lat\": city_lats,\n",
    "                \"Lng\": city_lngs,\n",
    "                \"High Temp\": temps,\n",
    "                \"Humidity\": humidities,\n",
    "                \"Cloudiness\": cloudiness,\n",
    "                \"Wind Speed\": wind_speeds,\n",
    "                \"Country\": countries,\n",
    "                \"Date\": dates\n",
    "               }\n",
    "city_weather_df = pd.DataFrame(city_weather)\n",
    "city_weather_df.head()\n"
   ]
  },
  {
   "cell_type": "code",
   "execution_count": null,
   "metadata": {},
   "outputs": [],
   "source": []
  },
  {
   "cell_type": "markdown",
   "metadata": {},
   "source": [
    "## Inspect the data and remove the cities where the humidity > 100%.\n",
    "----\n",
    "Skip this step if there are no cities that have humidity > 100%. "
   ]
  },
  {
   "cell_type": "code",
   "execution_count": null,
   "metadata": {},
   "outputs": [],
   "source": []
  },
  {
   "cell_type": "code",
   "execution_count": 45,
   "metadata": {},
   "outputs": [
    {
     "data": {
      "text/html": [
       "<div>\n",
       "<style scoped>\n",
       "    .dataframe tbody tr th:only-of-type {\n",
       "        vertical-align: middle;\n",
       "    }\n",
       "\n",
       "    .dataframe tbody tr th {\n",
       "        vertical-align: top;\n",
       "    }\n",
       "\n",
       "    .dataframe thead th {\n",
       "        text-align: right;\n",
       "    }\n",
       "</style>\n",
       "<table border=\"1\" class=\"dataframe\">\n",
       "  <thead>\n",
       "    <tr style=\"text-align: right;\">\n",
       "      <th></th>\n",
       "      <th>City</th>\n",
       "      <th>Lat</th>\n",
       "      <th>Lng</th>\n",
       "      <th>High Temp</th>\n",
       "      <th>Humidity</th>\n",
       "      <th>Cloudiness</th>\n",
       "      <th>Wind Speed</th>\n",
       "      <th>Country</th>\n",
       "      <th>Date</th>\n",
       "    </tr>\n",
       "  </thead>\n",
       "  <tbody>\n",
       "    <tr>\n",
       "      <th>3</th>\n",
       "      <td>taolanaro</td>\n",
       "      <td>0.0</td>\n",
       "      <td>0.0</td>\n",
       "      <td>0.0</td>\n",
       "      <td>101</td>\n",
       "      <td>0</td>\n",
       "      <td>0.0</td>\n",
       "      <td>mg</td>\n",
       "      <td>0</td>\n",
       "    </tr>\n",
       "    <tr>\n",
       "      <th>6</th>\n",
       "      <td>illoqqortoormiut</td>\n",
       "      <td>0.0</td>\n",
       "      <td>0.0</td>\n",
       "      <td>0.0</td>\n",
       "      <td>101</td>\n",
       "      <td>0</td>\n",
       "      <td>0.0</td>\n",
       "      <td>gl</td>\n",
       "      <td>0</td>\n",
       "    </tr>\n",
       "    <tr>\n",
       "      <th>9</th>\n",
       "      <td>hendijan</td>\n",
       "      <td>0.0</td>\n",
       "      <td>0.0</td>\n",
       "      <td>0.0</td>\n",
       "      <td>101</td>\n",
       "      <td>0</td>\n",
       "      <td>0.0</td>\n",
       "      <td>ir</td>\n",
       "      <td>0</td>\n",
       "    </tr>\n",
       "    <tr>\n",
       "      <th>15</th>\n",
       "      <td>taolanaro</td>\n",
       "      <td>0.0</td>\n",
       "      <td>0.0</td>\n",
       "      <td>0.0</td>\n",
       "      <td>101</td>\n",
       "      <td>0</td>\n",
       "      <td>0.0</td>\n",
       "      <td>mg</td>\n",
       "      <td>0</td>\n",
       "    </tr>\n",
       "    <tr>\n",
       "      <th>17</th>\n",
       "      <td>taolanaro</td>\n",
       "      <td>0.0</td>\n",
       "      <td>0.0</td>\n",
       "      <td>0.0</td>\n",
       "      <td>101</td>\n",
       "      <td>0</td>\n",
       "      <td>0.0</td>\n",
       "      <td>mg</td>\n",
       "      <td>0</td>\n",
       "    </tr>\n",
       "    <tr>\n",
       "      <th>28</th>\n",
       "      <td>nizhneyansk</td>\n",
       "      <td>0.0</td>\n",
       "      <td>0.0</td>\n",
       "      <td>0.0</td>\n",
       "      <td>101</td>\n",
       "      <td>0</td>\n",
       "      <td>0.0</td>\n",
       "      <td>ru</td>\n",
       "      <td>0</td>\n",
       "    </tr>\n",
       "    <tr>\n",
       "      <th>29</th>\n",
       "      <td>marcona</td>\n",
       "      <td>0.0</td>\n",
       "      <td>0.0</td>\n",
       "      <td>0.0</td>\n",
       "      <td>101</td>\n",
       "      <td>0</td>\n",
       "      <td>0.0</td>\n",
       "      <td>pe</td>\n",
       "      <td>0</td>\n",
       "    </tr>\n",
       "    <tr>\n",
       "      <th>40</th>\n",
       "      <td>saleaula</td>\n",
       "      <td>0.0</td>\n",
       "      <td>0.0</td>\n",
       "      <td>0.0</td>\n",
       "      <td>101</td>\n",
       "      <td>0</td>\n",
       "      <td>0.0</td>\n",
       "      <td>ws</td>\n",
       "      <td>0</td>\n",
       "    </tr>\n",
       "    <tr>\n",
       "      <th>45</th>\n",
       "      <td>umzimvubu</td>\n",
       "      <td>0.0</td>\n",
       "      <td>0.0</td>\n",
       "      <td>0.0</td>\n",
       "      <td>101</td>\n",
       "      <td>0</td>\n",
       "      <td>0.0</td>\n",
       "      <td>za</td>\n",
       "      <td>0</td>\n",
       "    </tr>\n",
       "    <tr>\n",
       "      <th>48</th>\n",
       "      <td>obluche</td>\n",
       "      <td>0.0</td>\n",
       "      <td>0.0</td>\n",
       "      <td>0.0</td>\n",
       "      <td>101</td>\n",
       "      <td>0</td>\n",
       "      <td>0.0</td>\n",
       "      <td>ru</td>\n",
       "      <td>0</td>\n",
       "    </tr>\n",
       "  </tbody>\n",
       "</table>\n",
       "</div>"
      ],
      "text/plain": [
       "                City  Lat  Lng  High Temp  Humidity  Cloudiness  Wind Speed  \\\n",
       "3          taolanaro  0.0  0.0        0.0       101           0         0.0   \n",
       "6   illoqqortoormiut  0.0  0.0        0.0       101           0         0.0   \n",
       "9           hendijan  0.0  0.0        0.0       101           0         0.0   \n",
       "15         taolanaro  0.0  0.0        0.0       101           0         0.0   \n",
       "17         taolanaro  0.0  0.0        0.0       101           0         0.0   \n",
       "28       nizhneyansk  0.0  0.0        0.0       101           0         0.0   \n",
       "29           marcona  0.0  0.0        0.0       101           0         0.0   \n",
       "40          saleaula  0.0  0.0        0.0       101           0         0.0   \n",
       "45         umzimvubu  0.0  0.0        0.0       101           0         0.0   \n",
       "48           obluche  0.0  0.0        0.0       101           0         0.0   \n",
       "\n",
       "   Country  Date  \n",
       "3       mg     0  \n",
       "6       gl     0  \n",
       "9       ir     0  \n",
       "15      mg     0  \n",
       "17      mg     0  \n",
       "28      ru     0  \n",
       "29      pe     0  \n",
       "40      ws     0  \n",
       "45      za     0  \n",
       "48      ru     0  "
      ]
     },
     "execution_count": 45,
     "metadata": {},
     "output_type": "execute_result"
    }
   ],
   "source": [
    "#  Get the indices of cities that have humidity over 100%.\n",
    "cities_more_100 = city_weather_df.loc[city_weather_df['Humidity']>100]\n",
    "cities_more_100"
   ]
  },
  {
   "cell_type": "code",
   "execution_count": 46,
   "metadata": {},
   "outputs": [
    {
     "data": {
      "text/html": [
       "<div>\n",
       "<style scoped>\n",
       "    .dataframe tbody tr th:only-of-type {\n",
       "        vertical-align: middle;\n",
       "    }\n",
       "\n",
       "    .dataframe tbody tr th {\n",
       "        vertical-align: top;\n",
       "    }\n",
       "\n",
       "    .dataframe thead th {\n",
       "        text-align: right;\n",
       "    }\n",
       "</style>\n",
       "<table border=\"1\" class=\"dataframe\">\n",
       "  <thead>\n",
       "    <tr style=\"text-align: right;\">\n",
       "      <th></th>\n",
       "      <th>City</th>\n",
       "      <th>Lat</th>\n",
       "      <th>Lng</th>\n",
       "      <th>High Temp</th>\n",
       "      <th>Humidity</th>\n",
       "      <th>Cloudiness</th>\n",
       "      <th>Wind Speed</th>\n",
       "      <th>Country</th>\n",
       "      <th>Date</th>\n",
       "    </tr>\n",
       "  </thead>\n",
       "  <tbody>\n",
       "    <tr>\n",
       "      <th>0</th>\n",
       "      <td>jamestown</td>\n",
       "      <td>42.10</td>\n",
       "      <td>-79.24</td>\n",
       "      <td>66.69</td>\n",
       "      <td>77</td>\n",
       "      <td>90</td>\n",
       "      <td>11.41</td>\n",
       "      <td>sh</td>\n",
       "      <td>1602371576</td>\n",
       "    </tr>\n",
       "    <tr>\n",
       "      <th>1</th>\n",
       "      <td>campo alegre</td>\n",
       "      <td>-9.78</td>\n",
       "      <td>-36.35</td>\n",
       "      <td>77.00</td>\n",
       "      <td>83</td>\n",
       "      <td>20</td>\n",
       "      <td>13.87</td>\n",
       "      <td>br</td>\n",
       "      <td>1602371718</td>\n",
       "    </tr>\n",
       "    <tr>\n",
       "      <th>2</th>\n",
       "      <td>saint anthony</td>\n",
       "      <td>45.02</td>\n",
       "      <td>-93.22</td>\n",
       "      <td>62.35</td>\n",
       "      <td>34</td>\n",
       "      <td>1</td>\n",
       "      <td>3.36</td>\n",
       "      <td>ca</td>\n",
       "      <td>1602371718</td>\n",
       "    </tr>\n",
       "    <tr>\n",
       "      <th>4</th>\n",
       "      <td>qaanaaq</td>\n",
       "      <td>77.48</td>\n",
       "      <td>-69.36</td>\n",
       "      <td>31.82</td>\n",
       "      <td>80</td>\n",
       "      <td>77</td>\n",
       "      <td>8.72</td>\n",
       "      <td>gl</td>\n",
       "      <td>1602371718</td>\n",
       "    </tr>\n",
       "    <tr>\n",
       "      <th>5</th>\n",
       "      <td>hilo</td>\n",
       "      <td>19.73</td>\n",
       "      <td>-155.09</td>\n",
       "      <td>81.36</td>\n",
       "      <td>58</td>\n",
       "      <td>75</td>\n",
       "      <td>9.17</td>\n",
       "      <td>us</td>\n",
       "      <td>1602371618</td>\n",
       "    </tr>\n",
       "  </tbody>\n",
       "</table>\n",
       "</div>"
      ],
      "text/plain": [
       "            City    Lat     Lng  High Temp  Humidity  Cloudiness  Wind Speed  \\\n",
       "0      jamestown  42.10  -79.24      66.69        77          90       11.41   \n",
       "1   campo alegre  -9.78  -36.35      77.00        83          20       13.87   \n",
       "2  saint anthony  45.02  -93.22      62.35        34           1        3.36   \n",
       "4        qaanaaq  77.48  -69.36      31.82        80          77        8.72   \n",
       "5           hilo  19.73 -155.09      81.36        58          75        9.17   \n",
       "\n",
       "  Country        Date  \n",
       "0      sh  1602371576  \n",
       "1      br  1602371718  \n",
       "2      ca  1602371718  \n",
       "4      gl  1602371718  \n",
       "5      us  1602371618  "
      ]
     },
     "execution_count": 46,
     "metadata": {},
     "output_type": "execute_result"
    }
   ],
   "source": [
    "# Make a new DataFrame equal to the city data to drop all humidity outliers by index.\n",
    "# Passing \"inplace=False\" will make a copy of the city_data DataFrame, which we call \"clean_city_data\".\n",
    "clean_city_data = city_weather_df.loc[city_weather_df['Humidity']<=100]\n",
    "clean_city_data.head()"
   ]
  },
  {
   "cell_type": "code",
   "execution_count": 47,
   "metadata": {},
   "outputs": [],
   "source": [
    "# output the csv file of all the cities which weather can find\n",
    "clean_city_data.to_csv('../output_data/cities_test.csv')\n"
   ]
  },
  {
   "cell_type": "markdown",
   "metadata": {},
   "source": [
    "## Plotting the Data\n",
    "* Use proper labeling of the plots using plot titles (including date of analysis) and axes labels.\n",
    "* Save the plotted figures as .pngs."
   ]
  },
  {
   "cell_type": "markdown",
   "metadata": {},
   "source": [
    "## Latitude vs. Temperature Plot"
   ]
  },
  {
   "cell_type": "code",
   "execution_count": 7,
   "metadata": {
    "scrolled": true
   },
   "outputs": [
    {
     "data": {
      "image/png": "[encoded data removed]",
      "text/plain": [
       "<Figure size 432x288 with 1 Axes>"
      ]
     },
     "metadata": {
      "needs_background": "light"
     },
     "output_type": "display_data"
    }
   ],
   "source": [
    "plt.scatter(clean_city_data['Lat'],clean_city_data['High Temp'],marker=\"o\",color=\"navy\")\n",
    "plt.xlabel('Latitude')\n",
    "plt.ylabel('Max Temp')\n",
    "plt.title('Latitude vs. Temperature Plot')\n",
    "\n",
    "plt.show()"
   ]
  },
  {
   "cell_type": "markdown",
   "metadata": {},
   "source": [
    "## Latitude vs. Humidity Plot"
   ]
  },
  {
   "cell_type": "code",
   "execution_count": 8,
   "metadata": {},
   "outputs": [
    {
     "data": {
      "text/plain": [
       "<matplotlib.collections.PathCollection at 0x21acbd75f40>"
      ]
     },
     "execution_count": 8,
     "metadata": {},
     "output_type": "execute_result"
    },
    {
     "data": {
      "image/png": "[encoded data removed]",
      "text/plain": [
       "<Figure size 432x288 with 1 Axes>"
      ]
     },
     "metadata": {
      "needs_background": "light"
     },
     "output_type": "display_data"
    }
   ],
   "source": [
    "plt.scatter(clean_city_data['Lat'],clean_city_data['Humidity'],marker=\"^\",color=\"blue\")"
   ]
  },
  {
   "cell_type": "markdown",
   "metadata": {},
   "source": [
    "## Latitude vs. Cloudiness Plot"
   ]
  },
  {
   "cell_type": "code",
   "execution_count": 9,
   "metadata": {},
   "outputs": [
    {
     "data": {
      "text/plain": [
       "<matplotlib.collections.PathCollection at 0x21acbdd0e20>"
      ]
     },
     "execution_count": 9,
     "metadata": {},
     "output_type": "execute_result"
    },
    {
     "data": {
      "image/png": "[encoded data removed]",
      "text/plain": [
       "<Figure size 432x288 with 1 Axes>"
      ]
     },
     "metadata": {
      "needs_background": "light"
     },
     "output_type": "display_data"
    }
   ],
   "source": [
    "plt.scatter(clean_city_data['Lat'],clean_city_data['Cloudiness'],marker=\"1\",color=\"forestgreen\")"
   ]
  },
  {
   "cell_type": "markdown",
   "metadata": {},
   "source": [
    "## Latitude vs. Wind Speed Plot"
   ]
  },
  {
   "cell_type": "code",
   "execution_count": 10,
   "metadata": {},
   "outputs": [
    {
     "data": {
      "text/plain": [
       "<matplotlib.collections.PathCollection at 0x21acbdb0c40>"
      ]
     },
     "execution_count": 10,
     "metadata": {},
     "output_type": "execute_result"
    },
    {
     "data": {
      "image/png": "[encoded data removed]",
      "text/plain": [
       "<Figure size 432x288 with 1 Axes>"
      ]
     },
     "metadata": {
      "needs_background": "light"
     },
     "output_type": "display_data"
    }
   ],
   "source": [
    "plt.scatter(clean_city_data['Lat'],clean_city_data['Wind Speed'],marker=\"2\",color=\"darkorange\")"
   ]
  },
  {
   "cell_type": "markdown",
   "metadata": {},
   "source": [
    "## Linear Regression"
   ]
  },
  {
   "cell_type": "code",
   "execution_count": 11,
   "metadata": {},
   "outputs": [
    {
     "data": {
      "text/html": [
       "<div>\n",
       "<style scoped>\n",
       "    .dataframe tbody tr th:only-of-type {\n",
       "        vertical-align: middle;\n",
       "    }\n",
       "\n",
       "    .dataframe tbody tr th {\n",
       "        vertical-align: top;\n",
       "    }\n",
       "\n",
       "    .dataframe thead th {\n",
       "        text-align: right;\n",
       "    }\n",
       "</style>\n",
       "<table border=\"1\" class=\"dataframe\">\n",
       "  <thead>\n",
       "    <tr style=\"text-align: right;\">\n",
       "      <th></th>\n",
       "      <th>City</th>\n",
       "      <th>Lat</th>\n",
       "      <th>Lng</th>\n",
       "      <th>High Temp</th>\n",
       "      <th>Humidity</th>\n",
       "      <th>Cloudiness</th>\n",
       "      <th>Wind Speed</th>\n",
       "      <th>Country</th>\n",
       "      <th>Date</th>\n",
       "    </tr>\n",
       "  </thead>\n",
       "  <tbody>\n",
       "    <tr>\n",
       "      <th>0</th>\n",
       "      <td>isangel</td>\n",
       "      <td>-19.55</td>\n",
       "      <td>169.27</td>\n",
       "      <td>80.02</td>\n",
       "      <td>74</td>\n",
       "      <td>30</td>\n",
       "      <td>14.92</td>\n",
       "      <td>vu</td>\n",
       "      <td>1602368675</td>\n",
       "    </tr>\n",
       "    <tr>\n",
       "      <th>4</th>\n",
       "      <td>tuatapere</td>\n",
       "      <td>-46.13</td>\n",
       "      <td>167.68</td>\n",
       "      <td>55.99</td>\n",
       "      <td>81</td>\n",
       "      <td>41</td>\n",
       "      <td>4.00</td>\n",
       "      <td>nz</td>\n",
       "      <td>1602368676</td>\n",
       "    </tr>\n",
       "    <tr>\n",
       "      <th>10</th>\n",
       "      <td>vaini</td>\n",
       "      <td>-21.20</td>\n",
       "      <td>-175.20</td>\n",
       "      <td>75.20</td>\n",
       "      <td>83</td>\n",
       "      <td>75</td>\n",
       "      <td>13.87</td>\n",
       "      <td>to</td>\n",
       "      <td>1602368677</td>\n",
       "    </tr>\n",
       "    <tr>\n",
       "      <th>12</th>\n",
       "      <td>port elizabeth</td>\n",
       "      <td>-33.92</td>\n",
       "      <td>25.57</td>\n",
       "      <td>53.60</td>\n",
       "      <td>71</td>\n",
       "      <td>40</td>\n",
       "      <td>5.82</td>\n",
       "      <td>za</td>\n",
       "      <td>1602368677</td>\n",
       "    </tr>\n",
       "    <tr>\n",
       "      <th>13</th>\n",
       "      <td>rikitea</td>\n",
       "      <td>-23.12</td>\n",
       "      <td>-134.97</td>\n",
       "      <td>74.30</td>\n",
       "      <td>79</td>\n",
       "      <td>1</td>\n",
       "      <td>16.91</td>\n",
       "      <td>pf</td>\n",
       "      <td>1602368434</td>\n",
       "    </tr>\n",
       "    <tr>\n",
       "      <th>...</th>\n",
       "      <td>...</td>\n",
       "      <td>...</td>\n",
       "      <td>...</td>\n",
       "      <td>...</td>\n",
       "      <td>...</td>\n",
       "      <td>...</td>\n",
       "      <td>...</td>\n",
       "      <td>...</td>\n",
       "      <td>...</td>\n",
       "    </tr>\n",
       "    <tr>\n",
       "      <th>491</th>\n",
       "      <td>sorong</td>\n",
       "      <td>-0.88</td>\n",
       "      <td>131.25</td>\n",
       "      <td>78.53</td>\n",
       "      <td>87</td>\n",
       "      <td>96</td>\n",
       "      <td>11.97</td>\n",
       "      <td>id</td>\n",
       "      <td>1602368680</td>\n",
       "    </tr>\n",
       "    <tr>\n",
       "      <th>492</th>\n",
       "      <td>ushuaia</td>\n",
       "      <td>-54.80</td>\n",
       "      <td>-68.30</td>\n",
       "      <td>51.80</td>\n",
       "      <td>77</td>\n",
       "      <td>40</td>\n",
       "      <td>27.51</td>\n",
       "      <td>ar</td>\n",
       "      <td>1602368418</td>\n",
       "    </tr>\n",
       "    <tr>\n",
       "      <th>495</th>\n",
       "      <td>bengkulu</td>\n",
       "      <td>-3.80</td>\n",
       "      <td>102.27</td>\n",
       "      <td>75.61</td>\n",
       "      <td>92</td>\n",
       "      <td>100</td>\n",
       "      <td>7.11</td>\n",
       "      <td>id</td>\n",
       "      <td>1602368757</td>\n",
       "    </tr>\n",
       "    <tr>\n",
       "      <th>498</th>\n",
       "      <td>rikitea</td>\n",
       "      <td>-23.12</td>\n",
       "      <td>-134.97</td>\n",
       "      <td>74.30</td>\n",
       "      <td>79</td>\n",
       "      <td>1</td>\n",
       "      <td>16.91</td>\n",
       "      <td>pf</td>\n",
       "      <td>1602368434</td>\n",
       "    </tr>\n",
       "    <tr>\n",
       "      <th>499</th>\n",
       "      <td>ballina</td>\n",
       "      <td>-28.87</td>\n",
       "      <td>153.57</td>\n",
       "      <td>68.29</td>\n",
       "      <td>73</td>\n",
       "      <td>1</td>\n",
       "      <td>3.36</td>\n",
       "      <td>au</td>\n",
       "      <td>1602368764</td>\n",
       "    </tr>\n",
       "  </tbody>\n",
       "</table>\n",
       "<p>215 rows × 9 columns</p>\n",
       "</div>"
      ],
      "text/plain": [
       "               City    Lat     Lng  High Temp  Humidity  Cloudiness  \\\n",
       "0           isangel -19.55  169.27      80.02        74          30   \n",
       "4         tuatapere -46.13  167.68      55.99        81          41   \n",
       "10            vaini -21.20 -175.20      75.20        83          75   \n",
       "12   port elizabeth -33.92   25.57      53.60        71          40   \n",
       "13          rikitea -23.12 -134.97      74.30        79           1   \n",
       "..              ...    ...     ...        ...       ...         ...   \n",
       "491          sorong  -0.88  131.25      78.53        87          96   \n",
       "492         ushuaia -54.80  -68.30      51.80        77          40   \n",
       "495        bengkulu  -3.80  102.27      75.61        92         100   \n",
       "498         rikitea -23.12 -134.97      74.30        79           1   \n",
       "499         ballina -28.87  153.57      68.29        73           1   \n",
       "\n",
       "     Wind Speed Country        Date  \n",
       "0         14.92      vu  1602368675  \n",
       "4          4.00      nz  1602368676  \n",
       "10        13.87      to  1602368677  \n",
       "12         5.82      za  1602368677  \n",
       "13        16.91      pf  1602368434  \n",
       "..          ...     ...         ...  \n",
       "491       11.97      id  1602368680  \n",
       "492       27.51      ar  1602368418  \n",
       "495        7.11      id  1602368757  \n",
       "498       16.91      pf  1602368434  \n",
       "499        3.36      au  1602368764  \n",
       "\n",
       "[215 rows x 9 columns]"
      ]
     },
     "execution_count": 11,
     "metadata": {},
     "output_type": "execute_result"
    }
   ],
   "source": [
    "# start with dividing the data into northern and southern hemisphere\n",
    "\n",
    "northern_data = clean_city_data.loc[clean_city_data['Lat'] >= 0]\n",
    "southern_data = clean_city_data.loc[clean_city_data['Lat'] <= 0]\n",
    "southern_data"
   ]
  },
  {
   "cell_type": "code",
   "execution_count": 12,
   "metadata": {},
   "outputs": [],
   "source": [
    "# create a linear regression function which creates the plots with the call\n",
    "\n",
    "def lin_regression(x_values, y_values, mrkr, clr, ann_x, ann_y):\n",
    "    (slope, intercept, rvalue, pvalue, stderr) = linregress(x_values, y_values)\n",
    "    regress_values = x_values * slope + intercept\n",
    "    line_eq = \"y = \" + str(round(slope,2)) + \"x + \" + str(round(intercept,2))\n",
    "    plt.scatter(x_values,y_values, marker=mrkr,color=clr)\n",
    "    plt.plot(x_values,regress_values,\"r-\")\n",
    "    plt.annotate(line_eq,(ann_x,ann_y),fontsize=15,color=\"black\")"
   ]
  },
  {
   "cell_type": "markdown",
   "metadata": {},
   "source": [
    "####  Northern Hemisphere - Max Temp vs. Latitude Linear Regression"
   ]
  },
  {
   "cell_type": "code",
   "execution_count": 28,
   "metadata": {},
   "outputs": [
    {
     "data": {
      "image/png": "[encoded data removed]",
      "text/plain": [
       "<Figure size 432x288 with 1 Axes>"
      ]
     },
     "metadata": {
      "needs_background": "light"
     },
     "output_type": "display_data"
    }
   ],
   "source": [
    "lin_regression(northern_data['High Temp'],northern_data['Lat'], 'o', 'navy', 20, 10)\n"
   ]
  },
  {
   "cell_type": "markdown",
   "metadata": {},
   "source": [
    "####  Southern Hemisphere - Max Temp vs. Latitude Linear Regression"
   ]
  },
  {
   "cell_type": "code",
   "execution_count": 14,
   "metadata": {},
   "outputs": [
    {
     "data": {
      "image/png": "[encoded data removed]",
      "text/plain": [
       "<Figure size 432x288 with 1 Axes>"
      ]
     },
     "metadata": {
      "needs_background": "light"
     },
     "output_type": "display_data"
    }
   ],
   "source": [
    "lin_regression(southern_data['High Temp'],southern_data['Lat'], 'v', 'forestgreen', 70, -45)"
   ]
  },
  {
   "cell_type": "markdown",
   "metadata": {},
   "source": [
    "####  Northern Hemisphere - Humidity (%) vs. Latitude Linear Regression"
   ]
  },
  {
   "cell_type": "code",
   "execution_count": 27,
   "metadata": {},
   "outputs": [
    {
     "data": {
      "image/png": "[encoded data removed]",
      "text/plain": [
       "<Figure size 432x288 with 1 Axes>"
      ]
     },
     "metadata": {
      "needs_background": "light"
     },
     "output_type": "display_data"
    }
   ],
   "source": [
    "lin_regression(northern_data['Humidity'],northern_data['Lat'], 'p', 'darkorange', 20, 75)"
   ]
  },
  {
   "cell_type": "markdown",
   "metadata": {},
   "source": [
    "####  Southern Hemisphere - Humidity (%) vs. Latitude Linear Regression"
   ]
  },
  {
   "cell_type": "code",
   "execution_count": 16,
   "metadata": {},
   "outputs": [
    {
     "data": {
      "image/png": "[encoded data removed]",
      "text/plain": [
       "<Figure size 432x288 with 1 Axes>"
      ]
     },
     "metadata": {
      "needs_background": "light"
     },
     "output_type": "display_data"
    }
   ],
   "source": [
    "lin_regression(southern_data['Humidity'],southern_data['Lat'], '+', 'lightseagreen', 20, -5)"
   ]
  },
  {
   "cell_type": "markdown",
   "metadata": {},
   "source": [
    "####  Northern Hemisphere - Cloudiness (%) vs. Latitude Linear Regression"
   ]
  },
  {
   "cell_type": "code",
   "execution_count": 25,
   "metadata": {},
   "outputs": [
    {
     "data": {
      "image/png": "[encoded data removed]",
      "text/plain": [
       "<Figure size 432x288 with 1 Axes>"
      ]
     },
     "metadata": {
      "needs_background": "light"
     },
     "output_type": "display_data"
    }
   ],
   "source": [
    "lin_regression(northern_data['Cloudiness'],northern_data['Lat'], 'd', 'navy', 0, 75)"
   ]
  },
  {
   "cell_type": "markdown",
   "metadata": {},
   "source": [
    "####  Southern Hemisphere - Cloudiness (%) vs. Latitude Linear Regression"
   ]
  },
  {
   "cell_type": "code",
   "execution_count": 22,
   "metadata": {},
   "outputs": [
    {
     "data": {
      "image/png": "[encoded data removed]",
      "text/plain": [
       "<Figure size 432x288 with 1 Axes>"
      ]
     },
     "metadata": {
      "needs_background": "light"
     },
     "output_type": "display_data"
    }
   ],
   "source": [
    "lin_regression(southern_data['Cloudiness'],southern_data['Lat'], '^', 'forestgreen', 55, -50)"
   ]
  },
  {
   "cell_type": "markdown",
   "metadata": {},
   "source": [
    "####  Northern Hemisphere - Wind Speed (mph) vs. Latitude Linear Regression"
   ]
  },
  {
   "cell_type": "code",
   "execution_count": 21,
   "metadata": {},
   "outputs": [
    {
     "data": {
      "image/png": "[encoded data removed]",
      "text/plain": [
       "<Figure size 432x288 with 1 Axes>"
      ]
     },
     "metadata": {
      "needs_background": "light"
     },
     "output_type": "display_data"
    }
   ],
   "source": [
    "lin_regression(northern_data['Wind Speed'],northern_data['Lat'], 'p', 'darkorange', 30, 20)"
   ]
  },
  {
   "cell_type": "markdown",
   "metadata": {},
   "source": [
    "####  Southern Hemisphere - Wind Speed (mph) vs. Latitude Linear Regression"
   ]
  },
  {
   "cell_type": "code",
   "execution_count": 20,
   "metadata": {},
   "outputs": [
    {
     "data": {
      "image/png": "[encoded data removed]",
      "text/plain": [
       "<Figure size 432x288 with 1 Axes>"
      ]
     },
     "metadata": {
      "needs_background": "light"
     },
     "output_type": "display_data"
    }
   ],
   "source": [
    "lin_regression(southern_data['Wind Speed'],southern_data['Lat'], '+', 'lightseagreen', 20, -5)"
   ]
  },
  {
   "cell_type": "code",
   "execution_count": null,
   "metadata": {},
   "outputs": [],
   "source": [
    "# Observations:1.) Not shocking, but temp is tightly correllated with latitude.\n",
    "# 2.) I was surprised that humidity has very little corellation with latitude. I would \n",
    "# have thought the closer to the equator, the more humid things are.  3.) I didn't realize\n",
    "# it gets a little windier as you get closer to the poles"
   ]
  }
 ],
 "metadata": {
  "anaconda-cloud": {},
  "kernel_info": {
   "name": "python3"
  },
  "kernelspec": {
   "display_name": "Python 3",
   "language": "python",
   "name": "python3"
  },
  "language_info": {
   "codemirror_mode": {
    "name": "ipython",
    "version": 3
   },
   "file_extension": ".py",
   "mimetype": "text/x-python",
   "name": "python",
   "nbconvert_exporter": "python",
   "pygments_lexer": "ipython3",
   "version": "3.8.3"
  },
  "latex_envs": {
   "LaTeX_envs_menu_present": true,
   "autoclose": false,
   "autocomplete": true,
   "bibliofile": "biblio.bib",
   "cite_by": "apalike",
   "current_citInitial": 1,
   "eqLabelWithNumbers": true,
   "eqNumInitial": 1,
   "hotkeys": {
    "equation": "Ctrl-E",
    "itemize": "Ctrl-I"
   },
   "labels_anchors": false,
   "latex_user_defs": false,
   "report_style_numbering": false,
   "user_envs_cfg": false
  },
  "nteract": {
   "version": "0.12.3"
  }
 },
 "nbformat": 4,
 "nbformat_minor": 2
}
